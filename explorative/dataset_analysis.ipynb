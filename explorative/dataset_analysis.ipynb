{
 "cells": [
  {
   "cell_type": "code",
   "execution_count": 108,
   "id": "05fe3d78",
   "metadata": {
    "pycharm": {
     "name": "#%%\n"
    }
   },
   "outputs": [],
   "source": [
    "import matplotlib.pyplot as plt\n",
    "import matplotlib as mpl\n",
    "import ccobra.syllogistic as ccobra\n",
    "import csv\n",
    "import pandas as pd\n",
    "from collections import defaultdict\n",
    "import numpy as np"
   ]
  },
  {
   "cell_type": "code",
   "execution_count": 2,
   "id": "7f54e19b",
   "metadata": {
    "pycharm": {
     "name": "#%%\n"
    }
   },
   "outputs": [],
   "source": [
    "with open('ccobra-master/benchmarks/syllogistic/data/Ragni2016.csv') as f:\n",
    "    file = csv.reader(f)\n",
    "    raw_csv = [row for row in file]\n",
    "    data = pd.DataFrame([row for row in raw_csv[1:]])"
   ]
  },
  {
   "cell_type": "code",
   "execution_count": 5,
   "id": "af6d912c",
   "metadata": {
    "pycharm": {
     "name": "#%%\n"
    }
   },
   "outputs": [
    {
     "data": {
      "text/html": [
       "<div>\n",
       "<style scoped>\n",
       "    .dataframe tbody tr th:only-of-type {\n",
       "        vertical-align: middle;\n",
       "    }\n",
       "\n",
       "    .dataframe tbody tr th {\n",
       "        vertical-align: top;\n",
       "    }\n",
       "\n",
       "    .dataframe thead th {\n",
       "        text-align: right;\n",
       "    }\n",
       "</style>\n",
       "<table border=\"1\" class=\"dataframe\">\n",
       "  <thead>\n",
       "    <tr style=\"text-align: right;\">\n",
       "      <th></th>\n",
       "      <th>id</th>\n",
       "      <th>sequence</th>\n",
       "      <th>task</th>\n",
       "      <th>choices</th>\n",
       "      <th>response</th>\n",
       "      <th>response_type</th>\n",
       "      <th>domain</th>\n",
       "      <th>gender</th>\n",
       "      <th>age</th>\n",
       "    </tr>\n",
       "  </thead>\n",
       "  <tbody>\n",
       "    <tr>\n",
       "      <th>0</th>\n",
       "      <td>1</td>\n",
       "      <td>0</td>\n",
       "      <td>Some;models;managers/All;models;clerks</td>\n",
       "      <td>All;managers;clerks|All;clerks;managers|Some;m...</td>\n",
       "      <td>Some;managers;clerks</td>\n",
       "      <td>single-choice</td>\n",
       "      <td>syllogistic</td>\n",
       "      <td>female</td>\n",
       "      <td>56</td>\n",
       "    </tr>\n",
       "    <tr>\n",
       "      <th>1</th>\n",
       "      <td>1</td>\n",
       "      <td>1</td>\n",
       "      <td>No;divers;carpenters/All;linguists;carpenters</td>\n",
       "      <td>All;divers;linguists|All;linguists;divers|Some...</td>\n",
       "      <td>No;divers;linguists</td>\n",
       "      <td>single-choice</td>\n",
       "      <td>syllogistic</td>\n",
       "      <td>female</td>\n",
       "      <td>56</td>\n",
       "    </tr>\n",
       "    <tr>\n",
       "      <th>2</th>\n",
       "      <td>1</td>\n",
       "      <td>2</td>\n",
       "      <td>All;therapists;climbers/Some;skaters;therapists</td>\n",
       "      <td>All;climbers;skaters|All;skaters;climbers|Some...</td>\n",
       "      <td>Some;skaters;climbers</td>\n",
       "      <td>single-choice</td>\n",
       "      <td>syllogistic</td>\n",
       "      <td>female</td>\n",
       "      <td>56</td>\n",
       "    </tr>\n",
       "    <tr>\n",
       "      <th>3</th>\n",
       "      <td>1</td>\n",
       "      <td>3</td>\n",
       "      <td>All;bankers;golfers/All;golfers;teachers</td>\n",
       "      <td>All;bankers;teachers|All;teachers;bankers|Some...</td>\n",
       "      <td>All;bankers;teachers</td>\n",
       "      <td>single-choice</td>\n",
       "      <td>syllogistic</td>\n",
       "      <td>female</td>\n",
       "      <td>56</td>\n",
       "    </tr>\n",
       "    <tr>\n",
       "      <th>4</th>\n",
       "      <td>1</td>\n",
       "      <td>4</td>\n",
       "      <td>Some not;boxers;opticians/All;boxers;actuaries</td>\n",
       "      <td>All;opticians;actuaries|All;actuaries;optician...</td>\n",
       "      <td>Some not;actuaries;opticians</td>\n",
       "      <td>single-choice</td>\n",
       "      <td>syllogistic</td>\n",
       "      <td>female</td>\n",
       "      <td>56</td>\n",
       "    </tr>\n",
       "    <tr>\n",
       "      <th>...</th>\n",
       "      <td>...</td>\n",
       "      <td>...</td>\n",
       "      <td>...</td>\n",
       "      <td>...</td>\n",
       "      <td>...</td>\n",
       "      <td>...</td>\n",
       "      <td>...</td>\n",
       "      <td>...</td>\n",
       "      <td>...</td>\n",
       "    </tr>\n",
       "    <tr>\n",
       "      <th>8891</th>\n",
       "      <td>139</td>\n",
       "      <td>59</td>\n",
       "      <td>Some not;potters;sailors/All;potters;chemists</td>\n",
       "      <td>All;sailors;chemists|All;chemists;sailors|Some...</td>\n",
       "      <td>Some not;sailors;chemists</td>\n",
       "      <td>single-choice</td>\n",
       "      <td>syllogistic</td>\n",
       "      <td>female</td>\n",
       "      <td>23</td>\n",
       "    </tr>\n",
       "    <tr>\n",
       "      <th>8892</th>\n",
       "      <td>139</td>\n",
       "      <td>60</td>\n",
       "      <td>Some;brewers;porters/Some not;judges;porters</td>\n",
       "      <td>All;brewers;judges|All;judges;brewers|Some;bre...</td>\n",
       "      <td>No;judges;brewers</td>\n",
       "      <td>single-choice</td>\n",
       "      <td>syllogistic</td>\n",
       "      <td>female</td>\n",
       "      <td>23</td>\n",
       "    </tr>\n",
       "    <tr>\n",
       "      <th>8893</th>\n",
       "      <td>139</td>\n",
       "      <td>61</td>\n",
       "      <td>No;sculptors;bakers/Some not;bakers;gamblers</td>\n",
       "      <td>All;sculptors;gamblers|All;gamblers;sculptors|...</td>\n",
       "      <td>Some not;gamblers;sculptors</td>\n",
       "      <td>single-choice</td>\n",
       "      <td>syllogistic</td>\n",
       "      <td>female</td>\n",
       "      <td>23</td>\n",
       "    </tr>\n",
       "    <tr>\n",
       "      <th>8894</th>\n",
       "      <td>139</td>\n",
       "      <td>62</td>\n",
       "      <td>Some;climbers;therapists/All;skaters;therapists</td>\n",
       "      <td>All;climbers;skaters|All;skaters;climbers|Some...</td>\n",
       "      <td>NVC</td>\n",
       "      <td>single-choice</td>\n",
       "      <td>syllogistic</td>\n",
       "      <td>female</td>\n",
       "      <td>23</td>\n",
       "    </tr>\n",
       "    <tr>\n",
       "      <th>8895</th>\n",
       "      <td>139</td>\n",
       "      <td>63</td>\n",
       "      <td>Some not;managers;models/All;models;clerks</td>\n",
       "      <td>All;managers;clerks|All;clerks;managers|Some;m...</td>\n",
       "      <td>All;managers;clerks</td>\n",
       "      <td>single-choice</td>\n",
       "      <td>syllogistic</td>\n",
       "      <td>female</td>\n",
       "      <td>23</td>\n",
       "    </tr>\n",
       "  </tbody>\n",
       "</table>\n",
       "<p>8896 rows × 9 columns</p>\n",
       "</div>"
      ],
      "text/plain": [
       "       id sequence                                             task  \\\n",
       "0       1        0           Some;models;managers/All;models;clerks   \n",
       "1       1        1    No;divers;carpenters/All;linguists;carpenters   \n",
       "2       1        2  All;therapists;climbers/Some;skaters;therapists   \n",
       "3       1        3         All;bankers;golfers/All;golfers;teachers   \n",
       "4       1        4   Some not;boxers;opticians/All;boxers;actuaries   \n",
       "...   ...      ...                                              ...   \n",
       "8891  139       59    Some not;potters;sailors/All;potters;chemists   \n",
       "8892  139       60     Some;brewers;porters/Some not;judges;porters   \n",
       "8893  139       61     No;sculptors;bakers/Some not;bakers;gamblers   \n",
       "8894  139       62  Some;climbers;therapists/All;skaters;therapists   \n",
       "8895  139       63       Some not;managers;models/All;models;clerks   \n",
       "\n",
       "                                                choices  \\\n",
       "0     All;managers;clerks|All;clerks;managers|Some;m...   \n",
       "1     All;divers;linguists|All;linguists;divers|Some...   \n",
       "2     All;climbers;skaters|All;skaters;climbers|Some...   \n",
       "3     All;bankers;teachers|All;teachers;bankers|Some...   \n",
       "4     All;opticians;actuaries|All;actuaries;optician...   \n",
       "...                                                 ...   \n",
       "8891  All;sailors;chemists|All;chemists;sailors|Some...   \n",
       "8892  All;brewers;judges|All;judges;brewers|Some;bre...   \n",
       "8893  All;sculptors;gamblers|All;gamblers;sculptors|...   \n",
       "8894  All;climbers;skaters|All;skaters;climbers|Some...   \n",
       "8895  All;managers;clerks|All;clerks;managers|Some;m...   \n",
       "\n",
       "                          response  response_type       domain  gender age  \n",
       "0             Some;managers;clerks  single-choice  syllogistic  female  56  \n",
       "1              No;divers;linguists  single-choice  syllogistic  female  56  \n",
       "2            Some;skaters;climbers  single-choice  syllogistic  female  56  \n",
       "3             All;bankers;teachers  single-choice  syllogistic  female  56  \n",
       "4     Some not;actuaries;opticians  single-choice  syllogistic  female  56  \n",
       "...                            ...            ...          ...     ...  ..  \n",
       "8891     Some not;sailors;chemists  single-choice  syllogistic  female  23  \n",
       "8892             No;judges;brewers  single-choice  syllogistic  female  23  \n",
       "8893   Some not;gamblers;sculptors  single-choice  syllogistic  female  23  \n",
       "8894                           NVC  single-choice  syllogistic  female  23  \n",
       "8895           All;managers;clerks  single-choice  syllogistic  female  23  \n",
       "\n",
       "[8896 rows x 9 columns]"
      ]
     },
     "execution_count": 5,
     "metadata": {},
     "output_type": "execute_result"
    }
   ],
   "source": [
    "data.columns = raw_csv[0]\n",
    "data"
   ]
  },
  {
   "cell_type": "code",
   "execution_count": 6,
   "id": "33dccaca",
   "metadata": {
    "pycharm": {
     "name": "#%%\n"
    }
   },
   "outputs": [],
   "source": [
    "def find_syllogism(x):\n",
    "    premise1, premise2 = [p.split(';') for p in x['task'].split('/')]\n",
    "    response = x['response'].split(';')\n",
    "    choices = [ccobra.encode_response(c.split(';'), (premise1,premise2)) for c in x['choices'].split('/')]\n",
    "    \n",
    "    task = ccobra.encode_task((premise1,premise2))\n",
    "    conclusion = ccobra.encode_response(response, (premise1, premise2))\n",
    "    \n",
    "    correct = conclusion in choices\n",
    "    \n",
    "    return task, conclusion, correct"
   ]
  },
  {
   "cell_type": "code",
   "execution_count": 15,
   "id": "cd6339fe",
   "metadata": {
    "pycharm": {
     "name": "#%%\n"
    }
   },
   "outputs": [
    {
     "data": {
      "text/html": [
       "<div>\n",
       "<style scoped>\n",
       "    .dataframe tbody tr th:only-of-type {\n",
       "        vertical-align: middle;\n",
       "    }\n",
       "\n",
       "    .dataframe tbody tr th {\n",
       "        vertical-align: top;\n",
       "    }\n",
       "\n",
       "    .dataframe thead th {\n",
       "        text-align: right;\n",
       "    }\n",
       "</style>\n",
       "<table border=\"1\" class=\"dataframe\">\n",
       "  <thead>\n",
       "    <tr style=\"text-align: right;\">\n",
       "      <th></th>\n",
       "      <th>task</th>\n",
       "      <th>response_conclusion</th>\n",
       "      <th>correct</th>\n",
       "    </tr>\n",
       "  </thead>\n",
       "  <tbody>\n",
       "    <tr>\n",
       "      <th>0</th>\n",
       "      <td>IA4</td>\n",
       "      <td>Iac</td>\n",
       "      <td>False</td>\n",
       "    </tr>\n",
       "    <tr>\n",
       "      <th>1</th>\n",
       "      <td>EA3</td>\n",
       "      <td>Eac</td>\n",
       "      <td>False</td>\n",
       "    </tr>\n",
       "    <tr>\n",
       "      <th>2</th>\n",
       "      <td>AI2</td>\n",
       "      <td>Ica</td>\n",
       "      <td>False</td>\n",
       "    </tr>\n",
       "    <tr>\n",
       "      <th>3</th>\n",
       "      <td>AA1</td>\n",
       "      <td>Aac</td>\n",
       "      <td>True</td>\n",
       "    </tr>\n",
       "    <tr>\n",
       "      <th>4</th>\n",
       "      <td>OA4</td>\n",
       "      <td>Oca</td>\n",
       "      <td>False</td>\n",
       "    </tr>\n",
       "    <tr>\n",
       "      <th>...</th>\n",
       "      <td>...</td>\n",
       "      <td>...</td>\n",
       "      <td>...</td>\n",
       "    </tr>\n",
       "    <tr>\n",
       "      <th>8891</th>\n",
       "      <td>OA4</td>\n",
       "      <td>Oac</td>\n",
       "      <td>False</td>\n",
       "    </tr>\n",
       "    <tr>\n",
       "      <th>8892</th>\n",
       "      <td>IO3</td>\n",
       "      <td>Eca</td>\n",
       "      <td>False</td>\n",
       "    </tr>\n",
       "    <tr>\n",
       "      <th>8893</th>\n",
       "      <td>EO1</td>\n",
       "      <td>Oca</td>\n",
       "      <td>False</td>\n",
       "    </tr>\n",
       "    <tr>\n",
       "      <th>8894</th>\n",
       "      <td>IA3</td>\n",
       "      <td>NVC</td>\n",
       "      <td>False</td>\n",
       "    </tr>\n",
       "    <tr>\n",
       "      <th>8895</th>\n",
       "      <td>OA1</td>\n",
       "      <td>Aac</td>\n",
       "      <td>True</td>\n",
       "    </tr>\n",
       "  </tbody>\n",
       "</table>\n",
       "<p>8896 rows × 3 columns</p>\n",
       "</div>"
      ],
      "text/plain": [
       "     task response_conclusion  correct\n",
       "0     IA4                 Iac    False\n",
       "1     EA3                 Eac    False\n",
       "2     AI2                 Ica    False\n",
       "3     AA1                 Aac     True\n",
       "4     OA4                 Oca    False\n",
       "...   ...                 ...      ...\n",
       "8891  OA4                 Oac    False\n",
       "8892  IO3                 Eca    False\n",
       "8893  EO1                 Oca    False\n",
       "8894  IA3                 NVC    False\n",
       "8895  OA1                 Aac     True\n",
       "\n",
       "[8896 rows x 3 columns]"
      ]
     },
     "execution_count": 15,
     "metadata": {},
     "output_type": "execute_result"
    }
   ],
   "source": [
    "syllogism_correct = data.apply(find_syllogism, axis='columns', result_type='expand')\n",
    "syllogism_correct.rename(columns={0:'task',1:'response_conclusion',2:'correct'})"
   ]
  },
  {
   "cell_type": "markdown",
   "id": "bfc59923",
   "metadata": {
    "pycharm": {
     "name": "#%% md\n"
    }
   },
   "source": [
    "I am trying to visualize the responses in the data. At the moment this is raw counts, and there are not equal observations per syllogisms. I should therefore include proportions rather than counts, this will make all the bars the same height. This will also help with the logistic regression presumably."
   ]
  },
  {
   "cell_type": "code",
   "execution_count": 161,
   "id": "477e7144",
   "metadata": {
    "pycharm": {
     "name": "#%%\n"
    }
   },
   "outputs": [
    {
     "data": {
      "text/plain": [
       "0    1  \n",
       "AA1  Aac    96\n",
       "     Aca    13\n",
       "     Eca     1\n",
       "     Iac    11\n",
       "     Ica     5\n",
       "            ..\n",
       "OO4  Iac    13\n",
       "     Ica     9\n",
       "     NVC    83\n",
       "     Oac    14\n",
       "     Oca    16\n",
       "Length: 517, dtype: int64"
      ]
     },
     "execution_count": 161,
     "metadata": {},
     "output_type": "execute_result"
    }
   ],
   "source": [
    "response_counts = syllogism_correct.groupby([0, 1]).size()\n",
    "response_counts_dict = defaultdict(lambda : 0, response_counts.to_dict())\n",
    "syllogisms_dict = {name : index for index, name in enumerate(ccobra.SYLLOGISMS)}\n",
    "response_dict = {name : index for index,name in enumerate(ccobra.RESPONSES)}\n",
    "response_counts"
   ]
  },
  {
   "cell_type": "code",
   "execution_count": 162,
   "id": "f5b12a7f",
   "metadata": {
    "pycharm": {
     "name": "#%%\n"
    }
   },
   "outputs": [],
   "source": [
    "response_count_mat = np.zeros((len(ccobra.SYLLOGISMS), len(ccobra.RESPONSES)))\n",
    "for key,value in response_counts_dict.items():\n",
    "    row = syllogisms_dict[key[0]]\n",
    "    column = response_dict[key[1]]\n",
    "    response_count_mat[row][column] = count = response_counts_dict[key]"
   ]
  },
  {
   "cell_type": "code",
   "execution_count": 163,
   "id": "6bfcc114",
   "metadata": {
    "pycharm": {
     "name": "#%%\n"
    }
   },
   "outputs": [],
   "source": [
    "response_proportions = (response_count_mat.T / response_count_mat.sum(axis=1)).T"
   ]
  },
  {
   "cell_type": "code",
   "execution_count": 215,
   "id": "9e651877",
   "metadata": {
    "pycharm": {
     "name": "#%%\n"
    }
   },
   "outputs": [
    {
     "data": {
      "text/plain": [
       "<AxesSubplot:title={'center':'Stacked Bar Graph by dataframe'}, xlabel='syll'>"
      ]
     },
     "execution_count": 215,
     "metadata": {},
     "output_type": "execute_result"
    },
    {
     "data": {
      "image/png": "[encoded data removed]",
      "text/plain": [
       "<Figure size 432x288 with 4 Axes>"
      ]
     },
     "metadata": {
      "needs_background": "light"
     },
     "output_type": "display_data"
    }
   ],
   "source": [
    "newdat = pd.DataFrame(response_proportions)\n",
    "newdat.insert(0,'syll',ccobra.SYLLOGISMS)\n",
    "\n",
    "fig, axes = plt.subplots(nrows=2, ncols=2)\n",
    "\n",
    "newdat[0:16].plot(x='syll', kind='bar', stacked=True,\n",
    "        title='Stacked Bar Graph by dataframe', ax=axes[0,0], legend=False)\n",
    "newdat[17:32].plot(x='syll', kind='bar', stacked=True,\n",
    "        title='Stacked Bar Graph by dataframe', ax=axes[1,0], legend=False)"
   ]
  },
  {
   "cell_type": "code",
   "execution_count": 208,
   "id": "d1be42ec",
   "metadata": {
    "pycharm": {
     "name": "#%%\n"
    }
   },
   "outputs": [
    {
     "data": {
      "text/html": [
       "<div>\n",
       "<style scoped>\n",
       "    .dataframe tbody tr th:only-of-type {\n",
       "        vertical-align: middle;\n",
       "    }\n",
       "\n",
       "    .dataframe tbody tr th {\n",
       "        vertical-align: top;\n",
       "    }\n",
       "\n",
       "    .dataframe thead th {\n",
       "        text-align: right;\n",
       "    }\n",
       "</style>\n",
       "<table border=\"1\" class=\"dataframe\">\n",
       "  <thead>\n",
       "    <tr style=\"text-align: right;\">\n",
       "      <th></th>\n",
       "      <th>0</th>\n",
       "      <th>1</th>\n",
       "      <th>2</th>\n",
       "      <th>3</th>\n",
       "      <th>4</th>\n",
       "      <th>5</th>\n",
       "      <th>6</th>\n",
       "      <th>7</th>\n",
       "      <th>8</th>\n",
       "    </tr>\n",
       "  </thead>\n",
       "  <tbody>\n",
       "    <tr>\n",
       "      <th>0</th>\n",
       "      <td>0.690647</td>\n",
       "      <td>0.093525</td>\n",
       "      <td>0.079137</td>\n",
       "      <td>0.035971</td>\n",
       "      <td>0.000000</td>\n",
       "      <td>0.007194</td>\n",
       "      <td>0.021583</td>\n",
       "      <td>0.021583</td>\n",
       "      <td>0.050360</td>\n",
       "    </tr>\n",
       "    <tr>\n",
       "      <th>1</th>\n",
       "      <td>0.237410</td>\n",
       "      <td>0.582734</td>\n",
       "      <td>0.057554</td>\n",
       "      <td>0.043165</td>\n",
       "      <td>0.000000</td>\n",
       "      <td>0.014388</td>\n",
       "      <td>0.007194</td>\n",
       "      <td>0.014388</td>\n",
       "      <td>0.043165</td>\n",
       "    </tr>\n",
       "    <tr>\n",
       "      <th>2</th>\n",
       "      <td>0.302158</td>\n",
       "      <td>0.107914</td>\n",
       "      <td>0.064748</td>\n",
       "      <td>0.035971</td>\n",
       "      <td>0.014388</td>\n",
       "      <td>0.007194</td>\n",
       "      <td>0.021583</td>\n",
       "      <td>0.007194</td>\n",
       "      <td>0.438849</td>\n",
       "    </tr>\n",
       "    <tr>\n",
       "      <th>3</th>\n",
       "      <td>0.381295</td>\n",
       "      <td>0.100719</td>\n",
       "      <td>0.165468</td>\n",
       "      <td>0.115108</td>\n",
       "      <td>0.007194</td>\n",
       "      <td>0.000000</td>\n",
       "      <td>0.021583</td>\n",
       "      <td>0.007194</td>\n",
       "      <td>0.201439</td>\n",
       "    </tr>\n",
       "    <tr>\n",
       "      <th>4</th>\n",
       "      <td>0.014388</td>\n",
       "      <td>0.014388</td>\n",
       "      <td>0.611511</td>\n",
       "      <td>0.151079</td>\n",
       "      <td>0.007194</td>\n",
       "      <td>0.000000</td>\n",
       "      <td>0.050360</td>\n",
       "      <td>0.050360</td>\n",
       "      <td>0.100719</td>\n",
       "    </tr>\n",
       "    <tr>\n",
       "      <th>5</th>\n",
       "      <td>0.007194</td>\n",
       "      <td>0.028777</td>\n",
       "      <td>0.194245</td>\n",
       "      <td>0.611511</td>\n",
       "      <td>0.000000</td>\n",
       "      <td>0.007194</td>\n",
       "      <td>0.043165</td>\n",
       "      <td>0.057554</td>\n",
       "      <td>0.050360</td>\n",
       "    </tr>\n",
       "    <tr>\n",
       "      <th>6</th>\n",
       "      <td>0.021583</td>\n",
       "      <td>0.000000</td>\n",
       "      <td>0.194245</td>\n",
       "      <td>0.374101</td>\n",
       "      <td>0.028777</td>\n",
       "      <td>0.014388</td>\n",
       "      <td>0.043165</td>\n",
       "      <td>0.035971</td>\n",
       "      <td>0.287770</td>\n",
       "    </tr>\n",
       "    <tr>\n",
       "      <th>7</th>\n",
       "      <td>0.014388</td>\n",
       "      <td>0.028777</td>\n",
       "      <td>0.532374</td>\n",
       "      <td>0.273381</td>\n",
       "      <td>0.000000</td>\n",
       "      <td>0.000000</td>\n",
       "      <td>0.057554</td>\n",
       "      <td>0.028777</td>\n",
       "      <td>0.064748</td>\n",
       "    </tr>\n",
       "    <tr>\n",
       "      <th>8</th>\n",
       "      <td>0.000000</td>\n",
       "      <td>0.007194</td>\n",
       "      <td>0.035971</td>\n",
       "      <td>0.014388</td>\n",
       "      <td>0.654676</td>\n",
       "      <td>0.172662</td>\n",
       "      <td>0.050360</td>\n",
       "      <td>0.007194</td>\n",
       "      <td>0.057554</td>\n",
       "    </tr>\n",
       "    <tr>\n",
       "      <th>9</th>\n",
       "      <td>0.000000</td>\n",
       "      <td>0.007194</td>\n",
       "      <td>0.007194</td>\n",
       "      <td>0.007194</td>\n",
       "      <td>0.208633</td>\n",
       "      <td>0.410072</td>\n",
       "      <td>0.093525</td>\n",
       "      <td>0.050360</td>\n",
       "      <td>0.215827</td>\n",
       "    </tr>\n",
       "    <tr>\n",
       "      <th>10</th>\n",
       "      <td>0.000000</td>\n",
       "      <td>0.021583</td>\n",
       "      <td>0.014388</td>\n",
       "      <td>0.028777</td>\n",
       "      <td>0.402878</td>\n",
       "      <td>0.352518</td>\n",
       "      <td>0.043165</td>\n",
       "      <td>0.035971</td>\n",
       "      <td>0.100719</td>\n",
       "    </tr>\n",
       "    <tr>\n",
       "      <th>11</th>\n",
       "      <td>0.014388</td>\n",
       "      <td>0.000000</td>\n",
       "      <td>0.028777</td>\n",
       "      <td>0.028777</td>\n",
       "      <td>0.345324</td>\n",
       "      <td>0.129496</td>\n",
       "      <td>0.179856</td>\n",
       "      <td>0.050360</td>\n",
       "      <td>0.223022</td>\n",
       "    </tr>\n",
       "    <tr>\n",
       "      <th>12</th>\n",
       "      <td>0.000000</td>\n",
       "      <td>0.014388</td>\n",
       "      <td>0.043165</td>\n",
       "      <td>0.071942</td>\n",
       "      <td>0.007194</td>\n",
       "      <td>0.007194</td>\n",
       "      <td>0.618705</td>\n",
       "      <td>0.129496</td>\n",
       "      <td>0.107914</td>\n",
       "    </tr>\n",
       "    <tr>\n",
       "      <th>13</th>\n",
       "      <td>0.000000</td>\n",
       "      <td>0.014388</td>\n",
       "      <td>0.100719</td>\n",
       "      <td>0.129496</td>\n",
       "      <td>0.028777</td>\n",
       "      <td>0.021583</td>\n",
       "      <td>0.136691</td>\n",
       "      <td>0.402878</td>\n",
       "      <td>0.165468</td>\n",
       "    </tr>\n",
       "    <tr>\n",
       "      <th>14</th>\n",
       "      <td>0.007194</td>\n",
       "      <td>0.007194</td>\n",
       "      <td>0.107914</td>\n",
       "      <td>0.093525</td>\n",
       "      <td>0.014388</td>\n",
       "      <td>0.007194</td>\n",
       "      <td>0.179856</td>\n",
       "      <td>0.352518</td>\n",
       "      <td>0.230216</td>\n",
       "    </tr>\n",
       "    <tr>\n",
       "      <th>15</th>\n",
       "      <td>0.007194</td>\n",
       "      <td>0.000000</td>\n",
       "      <td>0.050360</td>\n",
       "      <td>0.122302</td>\n",
       "      <td>0.021583</td>\n",
       "      <td>0.000000</td>\n",
       "      <td>0.589928</td>\n",
       "      <td>0.122302</td>\n",
       "      <td>0.086331</td>\n",
       "    </tr>\n",
       "  </tbody>\n",
       "</table>\n",
       "</div>"
      ],
      "text/plain": [
       "           0         1         2         3         4         5         6  \\\n",
       "0   0.690647  0.093525  0.079137  0.035971  0.000000  0.007194  0.021583   \n",
       "1   0.237410  0.582734  0.057554  0.043165  0.000000  0.014388  0.007194   \n",
       "2   0.302158  0.107914  0.064748  0.035971  0.014388  0.007194  0.021583   \n",
       "3   0.381295  0.100719  0.165468  0.115108  0.007194  0.000000  0.021583   \n",
       "4   0.014388  0.014388  0.611511  0.151079  0.007194  0.000000  0.050360   \n",
       "5   0.007194  0.028777  0.194245  0.611511  0.000000  0.007194  0.043165   \n",
       "6   0.021583  0.000000  0.194245  0.374101  0.028777  0.014388  0.043165   \n",
       "7   0.014388  0.028777  0.532374  0.273381  0.000000  0.000000  0.057554   \n",
       "8   0.000000  0.007194  0.035971  0.014388  0.654676  0.172662  0.050360   \n",
       "9   0.000000  0.007194  0.007194  0.007194  0.208633  0.410072  0.093525   \n",
       "10  0.000000  0.021583  0.014388  0.028777  0.402878  0.352518  0.043165   \n",
       "11  0.014388  0.000000  0.028777  0.028777  0.345324  0.129496  0.179856   \n",
       "12  0.000000  0.014388  0.043165  0.071942  0.007194  0.007194  0.618705   \n",
       "13  0.000000  0.014388  0.100719  0.129496  0.028777  0.021583  0.136691   \n",
       "14  0.007194  0.007194  0.107914  0.093525  0.014388  0.007194  0.179856   \n",
       "15  0.007194  0.000000  0.050360  0.122302  0.021583  0.000000  0.589928   \n",
       "\n",
       "           7         8  \n",
       "0   0.021583  0.050360  \n",
       "1   0.014388  0.043165  \n",
       "2   0.007194  0.438849  \n",
       "3   0.007194  0.201439  \n",
       "4   0.050360  0.100719  \n",
       "5   0.057554  0.050360  \n",
       "6   0.035971  0.287770  \n",
       "7   0.028777  0.064748  \n",
       "8   0.007194  0.057554  \n",
       "9   0.050360  0.215827  \n",
       "10  0.035971  0.100719  \n",
       "11  0.050360  0.223022  \n",
       "12  0.129496  0.107914  \n",
       "13  0.402878  0.165468  \n",
       "14  0.352518  0.230216  \n",
       "15  0.122302  0.086331  "
      ]
     },
     "execution_count": 208,
     "metadata": {},
     "output_type": "execute_result"
    }
   ],
   "source": [
    "pd.DataFrame(response_proportions)[0:16]"
   ]
  },
  {
   "cell_type": "code",
   "execution_count": 196,
   "id": "2ce70468",
   "metadata": {
    "pycharm": {
     "name": "#%%\n"
    }
   },
   "outputs": [
    {
     "name": "stdout",
     "output_type": "stream",
     "text": [
      "[0.69064748 0.23741007]\n",
      "[0.09352518 0.58273381]\n",
      "[0.07913669 0.05755396]\n",
      "[0.03597122 0.04316547]\n",
      "[0. 0.]\n",
      "[0.00719424 0.01438849]\n",
      "[0.02158273 0.00719424]\n",
      "[0.02158273 0.01438849]\n",
      "[0.05035971 0.04316547]\n"
     ]
    },
    {
     "data": {
      "text/plain": [
       "<matplotlib.legend.Legend at 0x7fc93fa2c490>"
      ]
     },
     "execution_count": 196,
     "metadata": {},
     "output_type": "execute_result"
    },
    {
     "data": {
      "image/png": "[encoded data removed]",
      "text/plain": [
       "<Figure size 432x288 with 1 Axes>"
      ]
     },
     "metadata": {
      "needs_background": "light"
     },
     "output_type": "display_data"
    }
   ],
   "source": [
    "fig, ax = plt.subplots()\n",
    "\n",
    "labels = ccobra.SYLLOGISMS[0:2]\n",
    "for index, conclusion in enumerate(ccobra.RESPONSES):\n",
    "    counts = response_proportions.T[index]\n",
    "    ax.bar(labels, counts[0:2], label=conclusion)\n",
    "    print(counts[0:2])\n",
    "plt.legend()"
   ]
  },
  {
   "cell_type": "code",
   "execution_count": 176,
   "id": "a305a402",
   "metadata": {
    "pycharm": {
     "name": "#%%\n"
    }
   },
   "outputs": [
    {
     "data": {
      "text/plain": [
       "<BarContainer object of 9 artists>"
      ]
     },
     "execution_count": 176,
     "metadata": {},
     "output_type": "execute_result"
    },
    {
     "data": {
      "image/png": "[encoded data removed]",
      "text/plain": [
       "<Figure size 432x288 with 1 Axes>"
      ]
     },
     "metadata": {
      "needs_background": "light"
     },
     "output_type": "display_data"
    }
   ],
   "source": [
    "plt.bar('AA1', response_proportions[0])"
   ]
  }
 ],
 "metadata": {
  "kernelspec": {
   "display_name": "Python 3 (ipykernel)",
   "language": "python",
   "name": "python3"
  },
  "language_info": {
   "codemirror_mode": {
    "name": "ipython",
    "version": 3
   },
   "file_extension": ".py",
   "mimetype": "text/x-python",
   "name": "python",
   "nbconvert_exporter": "python",
   "pygments_lexer": "ipython3",
   "version": "3.9.7"
  }
 },
 "nbformat": 4,
 "nbformat_minor": 5
}